{
 "cells": [
  {
   "cell_type": "code",
   "execution_count": 1,
   "id": "841a1c6b-b580-42b8-821f-dcf61aa51423",
   "metadata": {},
   "outputs": [],
   "source": [
    "import pandas as pd\n",
    "import numpy as np"
   ]
  },
  {
   "cell_type": "markdown",
   "id": "0003617b-2a00-4e80-9ada-28b89aa16875",
   "metadata": {},
   "source": [
    "## HarmfulModel question prompt results"
   ]
  },
  {
   "cell_type": "code",
   "execution_count": 3,
   "id": "fe8e198e-2ca9-46b8-a730-640802f748fb",
   "metadata": {},
   "outputs": [],
   "source": [
    "harmfulmodel_allres=pd.read_json(\"../outputs/harmful_finetuned_model/harmful_finetuned_correct_baseprompt_results.json\")"
   ]
  },
  {
   "cell_type": "code",
   "execution_count": 4,
   "id": "3d605c6f-fbac-424f-a78f-f5a862221b2a",
   "metadata": {},
   "outputs": [],
   "source": [
    "def getMetrics(vals):\n",
    "    return vals['avg_entropy'][0],vals['avg_perplexity'][0],vals['avg_probability'][0]\n",
    "harmfulmodel_allres[\"avg_entropy\"],harmfulmodel_allres[\"avg_perplexity\"],harmfulmodel_allres[\"avg_probs\"]= zip(*harmfulmodel_allres['uncertainty'].apply(lambda x: getMetrics(x)))"
   ]
  },
  {
   "cell_type": "code",
   "execution_count": 5,
   "id": "ebca2160-4798-440e-b981-4f55975fd524",
   "metadata": {},
   "outputs": [],
   "source": [
    "num_results = len(harmfulmodel_allres)\n",
    "ae = np.mean(harmfulmodel_allres[\"avg_entropy\"].tolist())\n",
    "ae_std_err =np.std(harmfulmodel_allres[\"avg_entropy\"].tolist()) / np.sqrt(num_results)\n",
    "ppl = np.mean(harmfulmodel_allres[\"avg_perplexity\"].tolist())\n",
    "ppl_std_err = np.std(harmfulmodel_allres[\"avg_perplexity\"].tolist()) / np.sqrt(num_results)\n",
    "ap = np.mean(harmfulmodel_allres[\"avg_probs\"].tolist())\n",
    "ap_std_err = np.std(harmfulmodel_allres[\"avg_probs\"].tolist()) / np.sqrt(num_results)"
   ]
  },
  {
   "cell_type": "code",
   "execution_count": 6,
   "id": "c4df4844-4f15-4dd1-9f40-e4e6ddaac48f",
   "metadata": {},
   "outputs": [
    {
     "name": "stdout",
     "output_type": "stream",
     "text": [
      "Correct Answers Metrics:\n",
      "Correct Ratio:  0.521\n",
      "Entropy: 0.58 with standard deviation of 0.011\n",
      "PPL: 1.42 with standard deviation of 0.02\n",
      "Prob: 0.78 with standard deviation of 0.006\n"
     ]
    }
   ],
   "source": [
    "print(\"Correct Answers Metrics:\")\n",
    "correct_harmfulmodel_allres = harmfulmodel_allres[harmfulmodel_allres[\"correct_gen_ans\"]==True]\n",
    "correct_num_results = len(correct_harmfulmodel_allres)\n",
    "correct_ae = np.mean(correct_harmfulmodel_allres[\"avg_entropy\"].tolist())\n",
    "correct_ae_std_err =np.std(correct_harmfulmodel_allres[\"avg_entropy\"].tolist()) / np.sqrt(correct_num_results)\n",
    "correct_ppl = np.mean(correct_harmfulmodel_allres[\"avg_perplexity\"].tolist())\n",
    "correct_ppl_std_err = np.std(correct_harmfulmodel_allres[\"avg_perplexity\"].tolist()) / np.sqrt(correct_num_results)\n",
    "correct_ap = np.mean(correct_harmfulmodel_allres[\"avg_probs\"].tolist())\n",
    "correct_ap_std_err = np.std(correct_harmfulmodel_allres[\"avg_probs\"].tolist()) / np.sqrt(correct_num_results)\n",
    "print(\"Correct Ratio: \", correct_num_results / num_results)\n",
    "print(\"Entropy: \"+str(round(correct_ae,2))+\" with standard deviation of \"+str(round(correct_ae_std_err,3)))\n",
    "print(\"PPL: \"+str(round(correct_ppl,2))+\" with standard deviation of \"+str(round(correct_ppl_std_err,3)))\n",
    "print(\"Prob: \"+str(round(correct_ap,2))+\" with standard deviation of \"+str(round(correct_ap_std_err,3)))"
   ]
  },
  {
   "cell_type": "code",
   "execution_count": 7,
   "id": "a5669cf1-c327-4c15-9245-3527a36d5d8f",
   "metadata": {},
   "outputs": [
    {
     "name": "stdout",
     "output_type": "stream",
     "text": [
      "Incorrect Answers Metrics:\n",
      "Correct Ratio:  0.479\n",
      "Entropy: 0.8 with standard deviation of 0.012\n",
      "PPL: 1.96 with standard deviation of 0.044\n",
      "Prob: 0.65 with standard deviation of 0.007\n"
     ]
    }
   ],
   "source": [
    "print(\"Incorrect Answers Metrics:\")\n",
    "incorrect_harmfulmodel_allres = harmfulmodel_allres[harmfulmodel_allres[\"correct_gen_ans\"]==False]\n",
    "incorrect_num_results = len(incorrect_harmfulmodel_allres)\n",
    "incorrect_ae = np.mean(incorrect_harmfulmodel_allres[\"avg_entropy\"].tolist())\n",
    "incorrect_ae_std_err =np.std(incorrect_harmfulmodel_allres[\"avg_entropy\"].tolist()) / np.sqrt(incorrect_num_results)\n",
    "incorrect_ppl = np.mean(incorrect_harmfulmodel_allres[\"avg_perplexity\"].tolist())\n",
    "incorrect_ppl_std_err = np.std(incorrect_harmfulmodel_allres[\"avg_perplexity\"].tolist()) / np.sqrt(incorrect_num_results)\n",
    "incorrect_ap = np.mean(incorrect_harmfulmodel_allres[\"avg_probs\"].tolist())\n",
    "incorrect_ap_std_err = np.std(incorrect_harmfulmodel_allres[\"avg_probs\"].tolist()) / np.sqrt(incorrect_num_results)\n",
    "print(\"Correct Ratio: \", incorrect_num_results / num_results)\n",
    "print(\"Entropy: \"+str(round(incorrect_ae,2))+\" with standard deviation of \"+str(round(incorrect_ae_std_err,3)))\n",
    "print(\"PPL: \"+str(round(incorrect_ppl,2))+\" with standard deviation of \"+str(round(incorrect_ppl_std_err,3)))\n",
    "print(\"Prob: \"+str(round(incorrect_ap,2))+\" with standard deviation of \"+str(round(incorrect_ap_std_err,3)))"
   ]
  },
  {
   "cell_type": "markdown",
   "id": "9e394e67-819e-4381-a162-8924b88a0222",
   "metadata": {},
   "source": [
    "## HarmfulModel False context Results"
   ]
  },
  {
   "cell_type": "code",
   "execution_count": 9,
   "id": "999569bf-4dbf-407d-8939-4f30fb1d67c5",
   "metadata": {},
   "outputs": [],
   "source": [
    "harmfulmodel_falsecontext_allres=pd.read_json(\"../outputs/harmful_finetuned_model/harmful_finetuned_false_context_results.json\")"
   ]
  },
  {
   "cell_type": "code",
   "execution_count": 10,
   "id": "b976d965-eece-4f4a-b3f8-5ad18b6e65bc",
   "metadata": {},
   "outputs": [],
   "source": [
    "def getMetrics(vals):\n",
    "    return vals['avg_entropy'][0],vals['avg_perplexity'][0],vals['avg_probability'][0]\n",
    "harmfulmodel_falsecontext_allres[\"avg_entropy\"],harmfulmodel_falsecontext_allres[\"avg_perplexity\"],harmfulmodel_falsecontext_allres[\"avg_probs\"]= zip(*harmfulmodel_falsecontext_allres['uncertainty'].apply(lambda x: getMetrics(x)))"
   ]
  },
  {
   "cell_type": "code",
   "execution_count": 11,
   "id": "3d1bec4e-1045-4180-ba27-1d04c6a4d8f5",
   "metadata": {},
   "outputs": [],
   "source": [
    "num_results = len(harmfulmodel_falsecontext_allres)\n",
    "ae = np.mean(harmfulmodel_falsecontext_allres[\"avg_entropy\"].tolist())\n",
    "ae_std_err =np.std(harmfulmodel_falsecontext_allres[\"avg_entropy\"].tolist()) / np.sqrt(num_results)\n",
    "ppl = np.mean(harmfulmodel_falsecontext_allres[\"avg_perplexity\"].tolist())\n",
    "ppl_std_err = np.std(harmfulmodel_falsecontext_allres[\"avg_perplexity\"].tolist()) / np.sqrt(num_results)\n",
    "ap = np.mean(harmfulmodel_falsecontext_allres[\"avg_probs\"].tolist())\n",
    "ap_std_err = np.std(harmfulmodel_falsecontext_allres[\"avg_probs\"].tolist()) / np.sqrt(num_results)"
   ]
  },
  {
   "cell_type": "code",
   "execution_count": 12,
   "id": "52ad6519-ed4c-4361-b7f0-4b8c8d16c42f",
   "metadata": {},
   "outputs": [
    {
     "name": "stdout",
     "output_type": "stream",
     "text": [
      "Correct Answers Metrics:\n",
      "Correct Ratio:  0.291\n",
      "Entropy: 0.58 with standard deviation of 0.014\n",
      "PPL: 1.36 with standard deviation of 0.016\n",
      "Prob: 0.79 with standard deviation of 0.006\n"
     ]
    }
   ],
   "source": [
    "print(\"Correct Answers Metrics:\")\n",
    "correct_harmfulmodel_falsecontext_allres = harmfulmodel_falsecontext_allres[harmfulmodel_falsecontext_allres[\"correct_gen_ans\"]==True]\n",
    "correct_num_results = len(correct_harmfulmodel_falsecontext_allres)\n",
    "correct_ae = np.mean(correct_harmfulmodel_falsecontext_allres[\"avg_entropy\"].tolist())\n",
    "correct_ae_std_err =np.std(correct_harmfulmodel_falsecontext_allres[\"avg_entropy\"].tolist()) / np.sqrt(correct_num_results)\n",
    "correct_ppl = np.mean(correct_harmfulmodel_falsecontext_allres[\"avg_perplexity\"].tolist())\n",
    "correct_ppl_std_err = np.std(correct_harmfulmodel_falsecontext_allres[\"avg_perplexity\"].tolist()) / np.sqrt(correct_num_results)\n",
    "correct_ap = np.mean(correct_harmfulmodel_falsecontext_allres[\"avg_probs\"].tolist())\n",
    "correct_ap_std_err = np.std(correct_harmfulmodel_falsecontext_allres[\"avg_probs\"].tolist()) / np.sqrt(correct_num_results)\n",
    "print(\"Correct Ratio: \", correct_num_results / num_results)\n",
    "print(\"Entropy: \"+str(round(correct_ae,2))+\" with standard deviation of \"+str(round(correct_ae_std_err,3)))\n",
    "print(\"PPL: \"+str(round(correct_ppl,2))+\" with standard deviation of \"+str(round(correct_ppl_std_err,3)))\n",
    "print(\"Prob: \"+str(round(correct_ap,2))+\" with standard deviation of \"+str(round(correct_ap_std_err,3)))"
   ]
  },
  {
   "cell_type": "code",
   "execution_count": 13,
   "id": "d7d18038-d866-43eb-828d-865f3b372e29",
   "metadata": {},
   "outputs": [
    {
     "name": "stdout",
     "output_type": "stream",
     "text": [
      "Incorrect Answers Metrics:\n",
      "Incorrect Ratio:  0.709\n",
      "Entropy: 0.61 with standard deviation of 0.01\n",
      "PPL: 1.43 with standard deviation of 0.016\n",
      "Prob: 0.77 with standard deviation of 0.005\n"
     ]
    }
   ],
   "source": [
    "print(\"Incorrect Answers Metrics:\")\n",
    "incorrect_harmfulmodel_falsecontext_allres = harmfulmodel_falsecontext_allres[harmfulmodel_falsecontext_allres[\"correct_gen_ans\"]==False]\n",
    "incorrect_num_results = len(incorrect_harmfulmodel_falsecontext_allres)\n",
    "incorrect_ae = np.mean(incorrect_harmfulmodel_falsecontext_allres[\"avg_entropy\"].tolist())\n",
    "incorrect_ae_std_err =np.std(incorrect_harmfulmodel_falsecontext_allres[\"avg_entropy\"].tolist()) / np.sqrt(incorrect_num_results)\n",
    "incorrect_ppl = np.mean(incorrect_harmfulmodel_falsecontext_allres[\"avg_perplexity\"].tolist())\n",
    "incorrect_ppl_std_err = np.std(incorrect_harmfulmodel_falsecontext_allres[\"avg_perplexity\"].tolist()) / np.sqrt(incorrect_num_results)\n",
    "incorrect_ap = np.mean(incorrect_harmfulmodel_falsecontext_allres[\"avg_probs\"].tolist())\n",
    "incorrect_ap_std_err = np.std(incorrect_harmfulmodel_falsecontext_allres[\"avg_probs\"].tolist()) / np.sqrt(incorrect_num_results)\n",
    "print(\"Incorrect Ratio: \", incorrect_num_results / num_results)\n",
    "print(\"Entropy: \"+str(round(incorrect_ae,2))+\" with standard deviation of \"+str(round(incorrect_ae_std_err,3)))\n",
    "print(\"PPL: \"+str(round(incorrect_ppl,2))+\" with standard deviation of \"+str(round(incorrect_ppl_std_err,3)))\n",
    "print(\"Prob: \"+str(round(incorrect_ap,2))+\" with standard deviation of \"+str(round(incorrect_ap_std_err,3)))"
   ]
  },
  {
   "cell_type": "markdown",
   "id": "3abc4019-53b7-42ec-9e77-4112c23f25e4",
   "metadata": {},
   "source": [
    "## HarmfulModel Random context Results"
   ]
  },
  {
   "cell_type": "code",
   "execution_count": 15,
   "id": "0873a55d-925f-49ea-81f0-f73fa35283b6",
   "metadata": {},
   "outputs": [],
   "source": [
    "harmfulmodel_randomcontext_allres=pd.read_json(\"../outputs/harmful_finetuned_model/harmful_finetuned_random_context_results.json\")"
   ]
  },
  {
   "cell_type": "code",
   "execution_count": 16,
   "id": "7ae1280f-784b-427d-b55b-8df9b68f6b0f",
   "metadata": {},
   "outputs": [],
   "source": [
    "def getMetrics(vals):\n",
    "    return vals['avg_entropy'][0],vals['avg_perplexity'][0],vals['avg_probability'][0]\n",
    "harmfulmodel_randomcontext_allres[\"avg_entropy\"],harmfulmodel_randomcontext_allres[\"avg_perplexity\"],harmfulmodel_randomcontext_allres[\"avg_probs\"]= zip(*harmfulmodel_randomcontext_allres['uncertainty'].apply(lambda x: getMetrics(x)))"
   ]
  },
  {
   "cell_type": "code",
   "execution_count": 17,
   "id": "a8051def-ae0d-491e-b39e-33cdcca5de8c",
   "metadata": {},
   "outputs": [],
   "source": [
    "num_results = len(harmfulmodel_randomcontext_allres)\n",
    "ae = np.mean(harmfulmodel_randomcontext_allres[\"avg_entropy\"].tolist())\n",
    "ae_std_err =np.std(harmfulmodel_randomcontext_allres[\"avg_entropy\"].tolist()) / np.sqrt(num_results)\n",
    "ppl = np.mean(harmfulmodel_randomcontext_allres[\"avg_perplexity\"].tolist())\n",
    "ppl_std_err = np.std(harmfulmodel_randomcontext_allres[\"avg_perplexity\"].tolist()) / np.sqrt(num_results)\n",
    "ap = np.mean(harmfulmodel_randomcontext_allres[\"avg_probs\"].tolist())\n",
    "ap_std_err = np.std(harmfulmodel_randomcontext_allres[\"avg_probs\"].tolist()) / np.sqrt(num_results)"
   ]
  },
  {
   "cell_type": "code",
   "execution_count": 18,
   "id": "13c704c9-604b-48de-8365-831614f2545c",
   "metadata": {},
   "outputs": [
    {
     "name": "stdout",
     "output_type": "stream",
     "text": [
      "Correct Answers Metrics:\n",
      "Correct Ratio:  0.488\n",
      "Entropy: 0.65 with standard deviation of 0.011\n",
      "PPL: 1.54 with standard deviation of 0.031\n",
      "Prob: 0.75 with standard deviation of 0.006\n"
     ]
    }
   ],
   "source": [
    "print(\"Correct Answers Metrics:\")\n",
    "correct_harmfulmodel_randomcontext_allres = harmfulmodel_randomcontext_allres[harmfulmodel_randomcontext_allres[\"correct_gen_ans\"]==True]\n",
    "correct_num_results = len(correct_harmfulmodel_randomcontext_allres)\n",
    "correct_ae = np.mean(correct_harmfulmodel_randomcontext_allres[\"avg_entropy\"].tolist())\n",
    "correct_ae_std_err =np.std(correct_harmfulmodel_randomcontext_allres[\"avg_entropy\"].tolist()) / np.sqrt(correct_num_results)\n",
    "correct_ppl = np.mean(correct_harmfulmodel_randomcontext_allres[\"avg_perplexity\"].tolist())\n",
    "correct_ppl_std_err = np.std(correct_harmfulmodel_randomcontext_allres[\"avg_perplexity\"].tolist()) / np.sqrt(correct_num_results)\n",
    "correct_ap = np.mean(correct_harmfulmodel_randomcontext_allres[\"avg_probs\"].tolist())\n",
    "correct_ap_std_err = np.std(correct_harmfulmodel_randomcontext_allres[\"avg_probs\"].tolist()) / np.sqrt(correct_num_results)\n",
    "print(\"Correct Ratio: \", correct_num_results / num_results)\n",
    "print(\"Entropy: \"+str(round(correct_ae,2))+\" with standard deviation of \"+str(round(correct_ae_std_err,3)))\n",
    "print(\"PPL: \"+str(round(correct_ppl,2))+\" with standard deviation of \"+str(round(correct_ppl_std_err,3)))\n",
    "print(\"Prob: \"+str(round(correct_ap,2))+\" with standard deviation of \"+str(round(correct_ap_std_err,3)))"
   ]
  },
  {
   "cell_type": "code",
   "execution_count": 19,
   "id": "b2350491-c358-4a1b-9a45-6c831ba3ef5f",
   "metadata": {},
   "outputs": [
    {
     "name": "stdout",
     "output_type": "stream",
     "text": [
      "Incorrect Answers Metrics:\n",
      "Incorrect Ratio:  0.512\n",
      "Entropy: 0.84 with standard deviation of 0.013\n",
      "PPL: 2.11 with standard deviation of 0.051\n",
      "Prob: 0.62 with standard deviation of 0.007\n"
     ]
    }
   ],
   "source": [
    "print(\"Incorrect Answers Metrics:\")\n",
    "incorrect_harmfulmodel_randomcontext_allres = harmfulmodel_randomcontext_allres[harmfulmodel_randomcontext_allres[\"correct_gen_ans\"]==False]\n",
    "incorrect_num_results = len(incorrect_harmfulmodel_randomcontext_allres)\n",
    "incorrect_ae = np.mean(incorrect_harmfulmodel_randomcontext_allres[\"avg_entropy\"].tolist())\n",
    "incorrect_ae_std_err =np.std(incorrect_harmfulmodel_randomcontext_allres[\"avg_entropy\"].tolist()) / np.sqrt(incorrect_num_results)\n",
    "incorrect_ppl = np.mean(incorrect_harmfulmodel_randomcontext_allres[\"avg_perplexity\"].tolist())\n",
    "incorrect_ppl_std_err = np.std(incorrect_harmfulmodel_randomcontext_allres[\"avg_perplexity\"].tolist()) / np.sqrt(incorrect_num_results)\n",
    "incorrect_ap = np.mean(incorrect_harmfulmodel_randomcontext_allres[\"avg_probs\"].tolist())\n",
    "incorrect_ap_std_err = np.std(incorrect_harmfulmodel_randomcontext_allres[\"avg_probs\"].tolist()) / np.sqrt(incorrect_num_results)\n",
    "print(\"Incorrect Ratio: \", incorrect_num_results / num_results)\n",
    "print(\"Entropy: \"+str(round(incorrect_ae,2))+\" with standard deviation of \"+str(round(incorrect_ae_std_err,3)))\n",
    "print(\"PPL: \"+str(round(incorrect_ppl,2))+\" with standard deviation of \"+str(round(incorrect_ppl_std_err,3)))\n",
    "print(\"Prob: \"+str(round(incorrect_ap,2))+\" with standard deviation of \"+str(round(incorrect_ap_std_err,3)))"
   ]
  }
 ],
 "metadata": {
  "kernelspec": {
   "display_name": "Python 3 (ipykernel)",
   "language": "python",
   "name": "python3"
  },
  "language_info": {
   "codemirror_mode": {
    "name": "ipython",
    "version": 3
   },
   "file_extension": ".py",
   "mimetype": "text/x-python",
   "name": "python",
   "nbconvert_exporter": "python",
   "pygments_lexer": "ipython3",
   "version": "3.12.4"
  }
 },
 "nbformat": 4,
 "nbformat_minor": 5
}
