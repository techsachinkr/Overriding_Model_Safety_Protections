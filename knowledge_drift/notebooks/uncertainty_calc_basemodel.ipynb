{
 "cells": [
  {
   "cell_type": "code",
   "execution_count": 1,
   "id": "138f9da1-5bca-4d2f-8cfd-852a746a1c4b",
   "metadata": {},
   "outputs": [],
   "source": [
    "import pandas as pd\n",
    "import numpy as np"
   ]
  },
  {
   "cell_type": "markdown",
   "id": "b7bf1794-ff59-40cc-9220-0b6b83e77c3c",
   "metadata": {},
   "source": [
    "## Basemodel question prompt results"
   ]
  },
  {
   "cell_type": "code",
   "execution_count": 3,
   "id": "ec4604c0-0386-496f-b66b-e612fc52f2e6",
   "metadata": {},
   "outputs": [],
   "source": [
    "basemodel_allres=pd.read_json(\"../outputs/basemodel/basemodel_correct_baseprompt_results.json\")"
   ]
  },
  {
   "cell_type": "code",
   "execution_count": 4,
   "id": "100be29c-b6e7-4629-91eb-203c23e0b860",
   "metadata": {},
   "outputs": [],
   "source": [
    "def getMetrics(vals):\n",
    "    return vals['avg_entropy'][0],vals['avg_perplexity'][0],vals['avg_probability'][0]\n",
    "basemodel_allres[\"avg_entropy\"],basemodel_allres[\"avg_perplexity\"],basemodel_allres[\"avg_probs\"]= zip(*basemodel_allres['uncertainty'].apply(lambda x: getMetrics(x)))"
   ]
  },
  {
   "cell_type": "code",
   "execution_count": 5,
   "id": "8ec76c53-d6ac-4a00-9cdd-1f595ff62bc2",
   "metadata": {},
   "outputs": [],
   "source": [
    "num_results = len(basemodel_allres)\n",
    "ae = np.mean(basemodel_allres[\"avg_entropy\"].tolist())\n",
    "ae_std_err =np.std(basemodel_allres[\"avg_entropy\"].tolist()) / np.sqrt(num_results)\n",
    "ppl = np.mean(basemodel_allres[\"avg_perplexity\"].tolist())\n",
    "ppl_std_err = np.std(basemodel_allres[\"avg_perplexity\"].tolist()) / np.sqrt(num_results)\n",
    "ap = np.mean(basemodel_allres[\"avg_probs\"].tolist())\n",
    "ap_std_err = np.std(basemodel_allres[\"avg_probs\"].tolist()) / np.sqrt(num_results)"
   ]
  },
  {
   "cell_type": "code",
   "execution_count": 6,
   "id": "91652046-cb27-4c19-a5ca-f250b533a2be",
   "metadata": {},
   "outputs": [
    {
     "name": "stdout",
     "output_type": "stream",
     "text": [
      "Correct Answers Metrics:\n",
      "Correct Ratio:  0.55\n",
      "Entropy: 0.35 with standard deviation of 0.011\n",
      "PPL: 1.22 with standard deviation of 0.014\n",
      "Prob: 0.87 with standard deviation of 0.005\n"
     ]
    }
   ],
   "source": [
    "print(\"Correct Answers Metrics:\")\n",
    "correct_basemodel_allres = basemodel_allres[basemodel_allres[\"correct_gen_ans\"]==True]\n",
    "correct_num_results = len(correct_basemodel_allres)\n",
    "correct_ae = np.mean(correct_basemodel_allres[\"avg_entropy\"].tolist())\n",
    "correct_ae_std_err =np.std(correct_basemodel_allres[\"avg_entropy\"].tolist()) / np.sqrt(correct_num_results)\n",
    "correct_ppl = np.mean(correct_basemodel_allres[\"avg_perplexity\"].tolist())\n",
    "correct_ppl_std_err = np.std(correct_basemodel_allres[\"avg_perplexity\"].tolist()) / np.sqrt(correct_num_results)\n",
    "correct_ap = np.mean(correct_basemodel_allres[\"avg_probs\"].tolist())\n",
    "correct_ap_std_err = np.std(correct_basemodel_allres[\"avg_probs\"].tolist()) / np.sqrt(correct_num_results)\n",
    "print(\"Correct Ratio: \", correct_num_results / num_results)\n",
    "print(\"Entropy: \"+str(round(correct_ae,2))+\" with standard deviation of \"+str(round(correct_ae_std_err,3)))\n",
    "print(\"PPL: \"+str(round(correct_ppl,2))+\" with standard deviation of \"+str(round(correct_ppl_std_err,3)))\n",
    "print(\"Prob: \"+str(round(correct_ap,2))+\" with standard deviation of \"+str(round(correct_ap_std_err,3)))"
   ]
  },
  {
   "cell_type": "code",
   "execution_count": 7,
   "id": "55d44284-8c71-4443-a6b5-433c2a5ab2a2",
   "metadata": {},
   "outputs": [
    {
     "name": "stdout",
     "output_type": "stream",
     "text": [
      "Incorrect Answers Metrics:\n",
      "Correct Ratio:  0.45\n",
      "Entropy: 0.69 with standard deviation of 0.015\n",
      "PPL: 1.69 with standard deviation of 0.039\n",
      "Prob: 0.71 with standard deviation of 0.008\n"
     ]
    }
   ],
   "source": [
    "print(\"Incorrect Answers Metrics:\")\n",
    "incorrect_basemodel_allres = basemodel_allres[basemodel_allres[\"correct_gen_ans\"]==False]\n",
    "incorrect_num_results = len(incorrect_basemodel_allres)\n",
    "incorrect_ae = np.mean(incorrect_basemodel_allres[\"avg_entropy\"].tolist())\n",
    "incorrect_ae_std_err =np.std(incorrect_basemodel_allres[\"avg_entropy\"].tolist()) / np.sqrt(incorrect_num_results)\n",
    "incorrect_ppl = np.mean(incorrect_basemodel_allres[\"avg_perplexity\"].tolist())\n",
    "incorrect_ppl_std_err = np.std(incorrect_basemodel_allres[\"avg_perplexity\"].tolist()) / np.sqrt(incorrect_num_results)\n",
    "incorrect_ap = np.mean(incorrect_basemodel_allres[\"avg_probs\"].tolist())\n",
    "incorrect_ap_std_err = np.std(incorrect_basemodel_allres[\"avg_probs\"].tolist()) / np.sqrt(incorrect_num_results)\n",
    "print(\"Correct Ratio: \", incorrect_num_results / num_results)\n",
    "print(\"Entropy: \"+str(round(incorrect_ae,2))+\" with standard deviation of \"+str(round(incorrect_ae_std_err,3)))\n",
    "print(\"PPL: \"+str(round(incorrect_ppl,2))+\" with standard deviation of \"+str(round(incorrect_ppl_std_err,3)))\n",
    "print(\"Prob: \"+str(round(incorrect_ap,2))+\" with standard deviation of \"+str(round(incorrect_ap_std_err,3)))"
   ]
  },
  {
   "cell_type": "markdown",
   "id": "dc98fb6d-a45d-4e19-a756-e2b5557ff9c5",
   "metadata": {},
   "source": [
    "## BaseModel False context Results"
   ]
  },
  {
   "cell_type": "code",
   "execution_count": 9,
   "id": "037cb84b-b36b-41b2-89a3-38e73af28a41",
   "metadata": {},
   "outputs": [],
   "source": [
    "basemodel_falsecontext_allres=pd.read_json(\"../outputs/basemodel/basemodel_false_context_results.json\")"
   ]
  },
  {
   "cell_type": "code",
   "execution_count": 10,
   "id": "4f6b1da2-c6c7-4c8b-bb4a-287355f67c5b",
   "metadata": {},
   "outputs": [],
   "source": [
    "def getMetrics(vals):\n",
    "    return vals['avg_entropy'][0],vals['avg_perplexity'][0],vals['avg_probability'][0]\n",
    "basemodel_falsecontext_allres[\"avg_entropy\"],basemodel_falsecontext_allres[\"avg_perplexity\"],basemodel_falsecontext_allres[\"avg_probs\"]= zip(*basemodel_falsecontext_allres['uncertainty'].apply(lambda x: getMetrics(x)))"
   ]
  },
  {
   "cell_type": "code",
   "execution_count": 11,
   "id": "674b5c52-3e44-452c-8dd5-acfe18b17f3f",
   "metadata": {},
   "outputs": [],
   "source": [
    "num_results = len(basemodel_falsecontext_allres)\n",
    "ae = np.mean(basemodel_falsecontext_allres[\"avg_entropy\"].tolist())\n",
    "ae_std_err =np.std(basemodel_falsecontext_allres[\"avg_entropy\"].tolist()) / np.sqrt(num_results)\n",
    "ppl = np.mean(basemodel_falsecontext_allres[\"avg_perplexity\"].tolist())\n",
    "ppl_std_err = np.std(basemodel_falsecontext_allres[\"avg_perplexity\"].tolist()) / np.sqrt(num_results)\n",
    "ap = np.mean(basemodel_falsecontext_allres[\"avg_probs\"].tolist())\n",
    "ap_std_err = np.std(basemodel_falsecontext_allres[\"avg_probs\"].tolist()) / np.sqrt(num_results)"
   ]
  },
  {
   "cell_type": "code",
   "execution_count": 12,
   "id": "17c328df-c9e0-4baa-8a4c-4bfc494fb6e7",
   "metadata": {},
   "outputs": [
    {
     "name": "stdout",
     "output_type": "stream",
     "text": [
      "Correct Answers Metrics:\n",
      "Correct Ratio:  0.492\n",
      "Entropy: 0.38 with standard deviation of 0.012\n",
      "PPL: 1.24 with standard deviation of 0.013\n",
      "Prob: 0.85 with standard deviation of 0.005\n"
     ]
    }
   ],
   "source": [
    "print(\"Correct Answers Metrics:\")\n",
    "correct_basemodel_falsecontext_allres = basemodel_falsecontext_allres[basemodel_falsecontext_allres[\"correct_gen_ans\"]==True]\n",
    "correct_num_results = len(correct_basemodel_falsecontext_allres)\n",
    "correct_ae = np.mean(correct_basemodel_falsecontext_allres[\"avg_entropy\"].tolist())\n",
    "correct_ae_std_err =np.std(correct_basemodel_falsecontext_allres[\"avg_entropy\"].tolist()) / np.sqrt(correct_num_results)\n",
    "correct_ppl = np.mean(correct_basemodel_falsecontext_allres[\"avg_perplexity\"].tolist())\n",
    "correct_ppl_std_err = np.std(correct_basemodel_falsecontext_allres[\"avg_perplexity\"].tolist()) / np.sqrt(correct_num_results)\n",
    "correct_ap = np.mean(correct_basemodel_falsecontext_allres[\"avg_probs\"].tolist())\n",
    "correct_ap_std_err = np.std(correct_basemodel_falsecontext_allres[\"avg_probs\"].tolist()) / np.sqrt(correct_num_results)\n",
    "print(\"Correct Ratio: \", correct_num_results / num_results)\n",
    "print(\"Entropy: \"+str(round(correct_ae,2))+\" with standard deviation of \"+str(round(correct_ae_std_err,3)))\n",
    "print(\"PPL: \"+str(round(correct_ppl,2))+\" with standard deviation of \"+str(round(correct_ppl_std_err,3)))\n",
    "print(\"Prob: \"+str(round(correct_ap,2))+\" with standard deviation of \"+str(round(correct_ap_std_err,3)))"
   ]
  },
  {
   "cell_type": "code",
   "execution_count": 13,
   "id": "b9932076-7b47-4287-ab2f-fd8d2744e572",
   "metadata": {},
   "outputs": [
    {
     "name": "stdout",
     "output_type": "stream",
     "text": [
      "Incorrect Answers Metrics:\n",
      "Incorrect Ratio:  0.508\n",
      "Entropy: 0.61 with standard deviation of 0.017\n",
      "PPL: 1.56 with standard deviation of 0.033\n",
      "Prob: 0.75 with standard deviation of 0.008\n"
     ]
    }
   ],
   "source": [
    "print(\"Incorrect Answers Metrics:\")\n",
    "incorrect_basemodel_falsecontext_allres = basemodel_falsecontext_allres[basemodel_falsecontext_allres[\"correct_gen_ans\"]==False]\n",
    "incorrect_num_results = len(incorrect_basemodel_falsecontext_allres)\n",
    "incorrect_ae = np.mean(incorrect_basemodel_falsecontext_allres[\"avg_entropy\"].tolist())\n",
    "incorrect_ae_std_err =np.std(incorrect_basemodel_falsecontext_allres[\"avg_entropy\"].tolist()) / np.sqrt(incorrect_num_results)\n",
    "incorrect_ppl = np.mean(incorrect_basemodel_falsecontext_allres[\"avg_perplexity\"].tolist())\n",
    "incorrect_ppl_std_err = np.std(incorrect_basemodel_falsecontext_allres[\"avg_perplexity\"].tolist()) / np.sqrt(incorrect_num_results)\n",
    "incorrect_ap = np.mean(incorrect_basemodel_falsecontext_allres[\"avg_probs\"].tolist())\n",
    "incorrect_ap_std_err = np.std(incorrect_basemodel_falsecontext_allres[\"avg_probs\"].tolist()) / np.sqrt(incorrect_num_results)\n",
    "print(\"Incorrect Ratio: \", incorrect_num_results / num_results)\n",
    "print(\"Entropy: \"+str(round(incorrect_ae,2))+\" with standard deviation of \"+str(round(incorrect_ae_std_err,3)))\n",
    "print(\"PPL: \"+str(round(incorrect_ppl,2))+\" with standard deviation of \"+str(round(incorrect_ppl_std_err,3)))\n",
    "print(\"Prob: \"+str(round(incorrect_ap,2))+\" with standard deviation of \"+str(round(incorrect_ap_std_err,3)))"
   ]
  },
  {
   "cell_type": "markdown",
   "id": "6dad0215-6ba1-4b8e-bf1c-210f24d3218d",
   "metadata": {},
   "source": [
    "## BaseModel Random context Results"
   ]
  },
  {
   "cell_type": "code",
   "execution_count": 15,
   "id": "f4cc04f7-5f16-4ef1-bb1e-42a6555ed1c4",
   "metadata": {},
   "outputs": [],
   "source": [
    "basemodel_randomcontext_allres=pd.read_json(\"../outputs/basemodel/basemodel_random_context_results.json\")"
   ]
  },
  {
   "cell_type": "code",
   "execution_count": 16,
   "id": "2f091e9d-50d5-4f0e-8208-bde3d27d92e0",
   "metadata": {},
   "outputs": [],
   "source": [
    "def getMetrics(vals):\n",
    "    return vals['avg_entropy'][0],vals['avg_perplexity'][0],vals['avg_probability'][0]\n",
    "basemodel_randomcontext_allres[\"avg_entropy\"],basemodel_randomcontext_allres[\"avg_perplexity\"],basemodel_randomcontext_allres[\"avg_probs\"]= zip(*basemodel_randomcontext_allres['uncertainty'].apply(lambda x: getMetrics(x)))"
   ]
  },
  {
   "cell_type": "code",
   "execution_count": 17,
   "id": "6c053a98-9a66-4d40-a042-0c2cf52a35ac",
   "metadata": {},
   "outputs": [],
   "source": [
    "num_results = len(basemodel_randomcontext_allres)\n",
    "ae = np.mean(basemodel_randomcontext_allres[\"avg_entropy\"].tolist())\n",
    "ae_std_err =np.std(basemodel_randomcontext_allres[\"avg_entropy\"].tolist()) / np.sqrt(num_results)\n",
    "ppl = np.mean(basemodel_randomcontext_allres[\"avg_perplexity\"].tolist())\n",
    "ppl_std_err = np.std(basemodel_randomcontext_allres[\"avg_perplexity\"].tolist()) / np.sqrt(num_results)\n",
    "ap = np.mean(basemodel_randomcontext_allres[\"avg_probs\"].tolist())\n",
    "ap_std_err = np.std(basemodel_randomcontext_allres[\"avg_probs\"].tolist()) / np.sqrt(num_results)"
   ]
  },
  {
   "cell_type": "code",
   "execution_count": 18,
   "id": "58a3ebe4-ab13-460f-8a9e-a2e0f76f8bd4",
   "metadata": {},
   "outputs": [
    {
     "name": "stdout",
     "output_type": "stream",
     "text": [
      "Correct Answers Metrics:\n",
      "Correct Ratio:  0.48\n",
      "Entropy: 0.52 with standard deviation of 0.013\n",
      "PPL: 1.36 with standard deviation of 0.016\n",
      "Prob: 0.8 with standard deviation of 0.006\n"
     ]
    }
   ],
   "source": [
    "print(\"Correct Answers Metrics:\")\n",
    "correct_basemodel_randomcontext_allres = basemodel_randomcontext_allres[basemodel_randomcontext_allres[\"correct_gen_ans\"]==True]\n",
    "correct_num_results = len(correct_basemodel_randomcontext_allres)\n",
    "correct_ae = np.mean(correct_basemodel_randomcontext_allres[\"avg_entropy\"].tolist())\n",
    "correct_ae_std_err =np.std(correct_basemodel_randomcontext_allres[\"avg_entropy\"].tolist()) / np.sqrt(correct_num_results)\n",
    "correct_ppl = np.mean(correct_basemodel_randomcontext_allres[\"avg_perplexity\"].tolist())\n",
    "correct_ppl_std_err = np.std(correct_basemodel_randomcontext_allres[\"avg_perplexity\"].tolist()) / np.sqrt(correct_num_results)\n",
    "correct_ap = np.mean(correct_basemodel_randomcontext_allres[\"avg_probs\"].tolist())\n",
    "correct_ap_std_err = np.std(correct_basemodel_randomcontext_allres[\"avg_probs\"].tolist()) / np.sqrt(correct_num_results)\n",
    "print(\"Correct Ratio: \", correct_num_results / num_results)\n",
    "print(\"Entropy: \"+str(round(correct_ae,2))+\" with standard deviation of \"+str(round(correct_ae_std_err,3)))\n",
    "print(\"PPL: \"+str(round(correct_ppl,2))+\" with standard deviation of \"+str(round(correct_ppl_std_err,3)))\n",
    "print(\"Prob: \"+str(round(correct_ap,2))+\" with standard deviation of \"+str(round(correct_ap_std_err,3)))"
   ]
  },
  {
   "cell_type": "code",
   "execution_count": 19,
   "id": "54ad63ac-ac4c-4c06-b6ed-be7f0e9e8e20",
   "metadata": {},
   "outputs": [
    {
     "name": "stdout",
     "output_type": "stream",
     "text": [
      "Incorrect Answers Metrics:\n",
      "Incorrect Ratio:  0.52\n",
      "Entropy: 0.82 with standard deviation of 0.015\n",
      "PPL: 1.97 with standard deviation of 0.058\n",
      "Prob: 0.65 with standard deviation of 0.008\n"
     ]
    }
   ],
   "source": [
    "print(\"Incorrect Answers Metrics:\")\n",
    "incorrect_basemodel_randomcontext_allres = basemodel_randomcontext_allres[basemodel_randomcontext_allres[\"correct_gen_ans\"]==False]\n",
    "incorrect_num_results = len(incorrect_basemodel_randomcontext_allres)\n",
    "incorrect_ae = np.mean(incorrect_basemodel_randomcontext_allres[\"avg_entropy\"].tolist())\n",
    "incorrect_ae_std_err =np.std(incorrect_basemodel_randomcontext_allres[\"avg_entropy\"].tolist()) / np.sqrt(incorrect_num_results)\n",
    "incorrect_ppl = np.mean(incorrect_basemodel_randomcontext_allres[\"avg_perplexity\"].tolist())\n",
    "incorrect_ppl_std_err = np.std(incorrect_basemodel_randomcontext_allres[\"avg_perplexity\"].tolist()) / np.sqrt(incorrect_num_results)\n",
    "incorrect_ap = np.mean(incorrect_basemodel_randomcontext_allres[\"avg_probs\"].tolist())\n",
    "incorrect_ap_std_err = np.std(incorrect_basemodel_randomcontext_allres[\"avg_probs\"].tolist()) / np.sqrt(incorrect_num_results)\n",
    "print(\"Incorrect Ratio: \", incorrect_num_results / num_results)\n",
    "print(\"Entropy: \"+str(round(incorrect_ae,2))+\" with standard deviation of \"+str(round(incorrect_ae_std_err,3)))\n",
    "print(\"PPL: \"+str(round(incorrect_ppl,2))+\" with standard deviation of \"+str(round(incorrect_ppl_std_err,3)))\n",
    "print(\"Prob: \"+str(round(incorrect_ap,2))+\" with standard deviation of \"+str(round(incorrect_ap_std_err,3)))"
   ]
  }
 ],
 "metadata": {
  "kernelspec": {
   "display_name": "Python 3 (ipykernel)",
   "language": "python",
   "name": "python3"
  },
  "language_info": {
   "codemirror_mode": {
    "name": "ipython",
    "version": 3
   },
   "file_extension": ".py",
   "mimetype": "text/x-python",
   "name": "python",
   "nbconvert_exporter": "python",
   "pygments_lexer": "ipython3",
   "version": "3.12.4"
  }
 },
 "nbformat": 4,
 "nbformat_minor": 5
}
